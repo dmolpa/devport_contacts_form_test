{
 "cells": [
  {
   "cell_type": "markdown",
   "metadata": {},
   "source": [
    "# Download and install Selenium"
   ]
  },
  {
   "cell_type": "code",
   "execution_count": null,
   "metadata": {},
   "outputs": [],
   "source": [
    "!wget https://github.com/mozilla/geckodriver/releases/download/v0.29.1/geckodriver-v0.29.1-linux64.tar.gz"
   ]
  },
  {
   "cell_type": "code",
   "execution_count": null,
   "metadata": {},
   "outputs": [],
   "source": [
    "!tar -xvzf geckodriver*"
   ]
  },
  {
   "cell_type": "markdown",
   "metadata": {},
   "source": [
    "#  Use Terminal to move geckodriver to your PATH folder\n",
    ">  sudo mv geckodriver /usr/local/bin/"
   ]
  },
  {
   "cell_type": "code",
   "execution_count": null,
   "metadata": {},
   "outputs": [],
   "source": [
    "!rm geckodriver-v0.29.1-linux64.tar.gz"
   ]
  },
  {
   "cell_type": "code",
   "execution_count": null,
   "metadata": {},
   "outputs": [],
   "source": [
    "!pipenv install"
   ]
  },
  {
   "cell_type": "markdown",
   "metadata": {},
   "source": [
    "# Create or edit *.py files"
   ]
  },
  {
   "cell_type": "code",
   "execution_count": null,
   "metadata": {},
   "outputs": [],
   "source": [
    "%%file contacts_page_xpath_selectors.py\n",
    "first_name_input_selector = '//*[@id=\"jobfirstName\"]'\n",
    "last_name_input_selector = '//*[@id=\"joblastName\"]'\n",
    "email_input_selector = '//*[@id=\"jobEmail\"]'\n",
    "phone_number_input_selector = '//*[@id=\"jobPhone\"]'\n",
    "message_text_area_selector = '//*[@id=\"jobMessage\"]'\n",
    "submit_button_selector = '//*[@class=\"ab_btn\"]'"
   ]
  },
  {
   "cell_type": "code",
   "execution_count": null,
   "metadata": {},
   "outputs": [],
   "source": [
    "%%file main.py\n",
    "import unittest\n",
    "from selenium import webdriver\n",
    "from selenium.webdriver.common.by import By\n",
    "from selenium.webdriver.support.ui import WebDriverWait\n",
    "from selenium.webdriver.support import expected_conditions as EC\n",
    "\n",
    "from contacts_page_xpath_selectors import first_name_input_selector, last_name_input_selector, email_input_selector, phone_number_input_selector, message_text_area_selector, submit_button_selector\n",
    "\n",
    "browser = webdriver.Firefox()\n",
    "\n",
    "browser.get('about:blank')\n",
    "browser.set_window_size(1920, 1200)\n",
    "browser.get(\"https://devport.io/ua/contact\")\n",
    "\n",
    "class contactsPageTest(unittest.TestCase):\n",
    "    \n",
    "    def test_first_name_input(self):\n",
    "        new_value = \"first_name\"\n",
    "        timeout = 2\n",
    "        \n",
    "        element_present = EC.presence_of_element_located((By.XPATH, first_name_input_selector))\n",
    "        WebDriverWait(browser, timeout).until(element_present)\n",
    "\n",
    "        element = browser.find_element_by_xpath(first_name_input_selector)\n",
    "        element.send_keys(new_value)\n",
    "        self.assertEqual(element.get_attribute(\"value\"), new_value)\n",
    "        \n",
    "    def test_last_name_input(self):\n",
    "        new_value = \"last_name\"\n",
    "\n",
    "        element = browser.find_element_by_xpath(last_name_input_selector)\n",
    "        element.send_keys(new_value)\n",
    "        self.assertEqual(element.get_attribute(\"value\"), new_value)\n",
    "        \n",
    "    def test_email_input(self):\n",
    "        new_value = \"some@email.com\"\n",
    "\n",
    "        element = browser.find_element_by_xpath(email_input_selector)\n",
    "        element.send_keys(new_value)\n",
    "        self.assertEqual(element.get_attribute(\"value\"), new_value)\n",
    "        \n",
    "    def test_phone_num_input(self):\n",
    "        new_value = \"5555555\"\n",
    "\n",
    "        element = browser.find_element_by_xpath(phone_number_input_selector)\n",
    "        element.send_keys(new_value)\n",
    "        self.assertEqual(element.get_attribute(\"value\"), new_value)\n",
    "        \n",
    "    def test_message_text_area(self):\n",
    "        new_value = \"This is a dummy message\"\n",
    "        \n",
    "        element = browser.find_element_by_xpath(message_text_area_selector)\n",
    "        element.send_keys(new_value)\n",
    "        self.assertEqual(element.get_attribute(\"value\"), new_value)\n",
    "        \n",
    "    def test_form_submit(self):\n",
    "        element = browser.find_element_by_xpath(submit_button_selector)\n",
    "        self.assertEqual(element.is_enabled(), True)\n",
    "    \n",
    "    @classmethod\n",
    "    def tearDownClass(self):\n",
    "        browser.quit()\n",
    "        \n",
    "if __name__ == \"__main__\":\n",
    "    unittest.main()"
   ]
  },
  {
   "cell_type": "code",
   "execution_count": 1,
   "metadata": {},
   "outputs": [
    {
     "name": "stdout",
     "output_type": "stream",
     "text": [
      "......\n",
      "----------------------------------------------------------------------\n",
      "Ran 6 tests in 1.375s\n",
      "\n",
      "OK\n"
     ]
    }
   ],
   "source": [
    "!python3 main.py"
   ]
  },
  {
   "cell_type": "code",
   "execution_count": null,
   "metadata": {},
   "outputs": [],
   "source": []
  }
 ],
 "metadata": {
  "kernelspec": {
   "display_name": "Python 3",
   "language": "python",
   "name": "python3"
  },
  "language_info": {
   "codemirror_mode": {
    "name": "ipython",
    "version": 3
   },
   "file_extension": ".py",
   "mimetype": "text/x-python",
   "name": "python",
   "nbconvert_exporter": "python",
   "pygments_lexer": "ipython3",
   "version": "3.8.10"
  }
 },
 "nbformat": 4,
 "nbformat_minor": 2
}
